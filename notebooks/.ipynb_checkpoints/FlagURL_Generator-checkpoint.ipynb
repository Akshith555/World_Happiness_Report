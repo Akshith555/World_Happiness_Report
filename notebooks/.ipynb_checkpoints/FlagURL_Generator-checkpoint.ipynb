{
 "cells": [
  {
   "cell_type": "code",
   "execution_count": 9,
   "id": "3d82bc9f-2431-405c-8ee9-f4e1c2aae8e4",
   "metadata": {},
   "outputs": [
    {
     "name": "stdout",
     "output_type": "stream",
     "text": [
      "       Country  Year  Rank  Score      GDP  Social Support   Health  Freedom  \\\n",
      "0  Switzerland  2015     1  7.587  1.39651         1.34951  0.94143  0.66557   \n",
      "1      Iceland  2015     2  7.561  1.30232         1.40223  0.94784  0.62877   \n",
      "2      Denmark  2015     3  7.527  1.32548         1.36058  0.87464  0.64938   \n",
      "3       Norway  2015     4  7.522  1.45900         1.33095  0.88521  0.66973   \n",
      "4       Canada  2015     5  7.427  1.32629         1.32261  0.90563  0.63297   \n",
      "\n",
      "   Generosity    Trust    Rank Bin  Predicted_Score_RF ISO2  \\\n",
      "0     0.29678  0.41978  Top (Best)            7.411770   ch   \n",
      "1     0.43630  0.14145  Top (Best)            7.149620   is   \n",
      "2     0.34139  0.48357  Top (Best)            7.138278   dk   \n",
      "3     0.34699  0.36503  Top (Best)            7.446757   no   \n",
      "4     0.45811  0.32957  Top (Best)            7.334854   ca   \n",
      "\n",
      "                                          FlagURL  \n",
      "0  https://flagpedia.net/data/flags/normal/ch.png  \n",
      "1  https://flagpedia.net/data/flags/normal/is.png  \n",
      "2  https://flagpedia.net/data/flags/normal/dk.png  \n",
      "3  https://flagpedia.net/data/flags/normal/no.png  \n",
      "4  https://flagpedia.net/data/flags/normal/ca.png  \n"
     ]
    }
   ],
   "source": [
    "import pandas as pd\n",
    "import pycountry\n",
    "\n",
    "# Load your dataset (adjust the file path if needed)\n",
    "df = pd.read_csv('world_happiness_predictions.csv')\n",
    "\n",
    "# Function to get ISO2 code for a given country name\n",
    "def get_iso2(country_name):\n",
    "    try:\n",
    "        # Lookup country using pycountry\n",
    "        country = pycountry.countries.lookup(country_name)\n",
    "        return country.alpha_2.lower()  # return lower-case ISO2 code\n",
    "    except LookupError:\n",
    "        return None\n",
    "\n",
    "# Apply the function to create a new column for ISO2 codes\n",
    "df['ISO2'] = df['Country'].apply(get_iso2)\n",
    "\n",
    "# Create the FlagURL column using the Flagpedia URL\n",
    "df['FlagURL'] = df['ISO2'].apply(\n",
    "    lambda code: f\"https://flagpedia.net/data/flags/normal/{code}.png\" if code else None\n",
    ")\n",
    "\n",
    "# Display the updated dataframe head to verify\n",
    "print(df.head())\n",
    "\n",
    "# Optionally, save the updated dataset to a new CSV file\n",
    "df.to_csv('world_happiness_predictions_with_flags_flagpedia.csv', index=False)\n"
   ]
  },
  {
   "cell_type": "code",
   "execution_count": null,
   "id": "1d20bf42-5cf9-4ad6-a6ce-b1b2b9aa3032",
   "metadata": {},
   "outputs": [],
   "source": []
  }
 ],
 "metadata": {
  "kernelspec": {
   "display_name": "Python 3 (ipykernel)",
   "language": "python",
   "name": "python3"
  },
  "language_info": {
   "codemirror_mode": {
    "name": "ipython",
    "version": 3
   },
   "file_extension": ".py",
   "mimetype": "text/x-python",
   "name": "python",
   "nbconvert_exporter": "python",
   "pygments_lexer": "ipython3",
   "version": "3.12.1"
  }
 },
 "nbformat": 4,
 "nbformat_minor": 5
}
